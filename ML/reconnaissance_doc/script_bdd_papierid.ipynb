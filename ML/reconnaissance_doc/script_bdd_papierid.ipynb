{
 "cells": [
  {
   "cell_type": "code",
   "execution_count": 40,
   "metadata": {},
   "outputs": [],
   "source": [
    "import numpy as np \n",
    "import pandas as pd \n"
   ]
  },
  {
   "cell_type": "code",
   "execution_count": 41,
   "metadata": {},
   "outputs": [
    {
     "name": "stdout",
     "output_type": "stream",
     "text": [
      "C:/Users/hugol/Desktop/cours_ece/test/ML/BDD_Finale_etape2_Papierid_leger/carteid\\504392516_small.jpg\n",
      "C:/Users/hugol/Desktop/cours_ece/test/ML/BDD_Finale_etape2_Papierid_leger/carteid\\images_1.jpg\n",
      "C:/Users/hugol/Desktop/cours_ece/test/ML/BDD_Finale_etape2_Papierid_leger/carteid\\images_10.jpg\n",
      "C:/Users/hugol/Desktop/cours_ece/test/ML/BDD_Finale_etape2_Papierid_leger/carteid\\images_12.jpg\n",
      "C:/Users/hugol/Desktop/cours_ece/test/ML/BDD_Finale_etape2_Papierid_leger/carteid\\images_2.jpg\n",
      "C:/Users/hugol/Desktop/cours_ece/test/ML/BDD_Finale_etape2_Papierid_leger/carteid\\images_3.jpg\n",
      "C:/Users/hugol/Desktop/cours_ece/test/ML/BDD_Finale_etape2_Papierid_leger/carteid\\images_5.jpg\n",
      "C:/Users/hugol/Desktop/cours_ece/test/ML/BDD_Finale_etape2_Papierid_leger/carteid\\images_6.jpg\n",
      "C:/Users/hugol/Desktop/cours_ece/test/ML/BDD_Finale_etape2_Papierid_leger/carteid\\images_8.jpg\n",
      "C:/Users/hugol/Desktop/cours_ece/test/ML/BDD_Finale_etape2_Papierid_leger/carteid\\images_9.jpg\n"
     ]
    }
   ],
   "source": [
    "import os\n",
    "for dirname, _, filenames in os.walk('C:/Users/hugol/Desktop/cours_ece/test/ML/BDD_Finale_etape2_Papierid_leger/carteid' ) :\n",
    "    for filename in filenames:\n",
    "        print(os.path.join(dirname, filename))"
   ]
  },
  {
   "cell_type": "code",
   "execution_count": 42,
   "metadata": {},
   "outputs": [],
   "source": [
    "#!pip install -q keras-ocr\n",
    "#from IPython.display import clear_output   \n",
    "#clear_output()"
   ]
  },
  {
   "cell_type": "code",
   "execution_count": 43,
   "metadata": {},
   "outputs": [],
   "source": [
    "#pip install --upgrade keras-ocr"
   ]
  },
  {
   "cell_type": "code",
   "execution_count": 44,
   "metadata": {},
   "outputs": [],
   "source": [
    "#pip install --upgrade tensorflow\n"
   ]
  },
  {
   "cell_type": "code",
   "execution_count": 45,
   "metadata": {},
   "outputs": [],
   "source": [
    "import tensorflow"
   ]
  },
  {
   "cell_type": "code",
   "execution_count": 46,
   "metadata": {},
   "outputs": [],
   "source": [
    "import keras_ocr\n",
    "import matplotlib.pyplot as plt"
   ]
  },
  {
   "cell_type": "code",
   "execution_count": 47,
   "metadata": {},
   "outputs": [
    {
     "name": "stdout",
     "output_type": "stream",
     "text": [
      "Looking for C:\\Users\\hugol\\.keras-ocr\\craft_mlt_25k.h5\n"
     ]
    },
    {
     "name": "stdout",
     "output_type": "stream",
     "text": [
      "Looking for C:\\Users\\hugol\\.keras-ocr\\crnn_kurapan.h5\n"
     ]
    }
   ],
   "source": [
    "pipeline = keras_ocr.pipeline.Pipeline()"
   ]
  },
  {
   "cell_type": "code",
   "execution_count": 48,
   "metadata": {},
   "outputs": [
    {
     "name": "stdout",
     "output_type": "stream",
     "text": [
      "1/1 [==============================] - 10s 10s/step\n",
      "8/8 [==============================] - 10s 1s/step\n"
     ]
    }
   ],
   "source": [
    "import os\n",
    "from keras_ocr.tools import read\n",
    "import numpy as np\n",
    "\n",
    "# Chemin du dossier contenant les images\n",
    "dossier_images = 'C:/Users/hugol/Desktop/cours_ece/test/ML/BDD_Finale_etape2_Papierid_leger/carteid'\n",
    "\n",
    "# Liste tous les fichiers dans le dossier\n",
    "fichiers_images = [fichier for fichier in os.listdir(dossier_images) if fichier.endswith(('.png', '.jpg', '.jpeg'))]\n",
    "\n",
    "# Lit chaque image et stocke le résultat dans la liste images\n",
    "images = [read(os.path.join(dossier_images, img)) for img in fichiers_images]\n",
    "\n",
    "# Filtrer les images vides\n",
    "images = [img for img in images if img.shape[0] > 0 and img.shape[1] > 0]\n",
    "\n",
    "# Vérifier que des images sont présentes avant d'appeler recognize\n",
    "if images:\n",
    "    # generate text predictions from the images\n",
    "    prediction_groups = pipeline.recognize(images)\n",
    "else:\n",
    "    print(\"Aucune image valide trouvée dans le dossier.\")\n"
   ]
  },
  {
   "cell_type": "code",
   "execution_count": 49,
   "metadata": {},
   "outputs": [],
   "source": [
    "mots=[]\n",
    "for i in range(len(prediction_groups)):\n",
    "    mots.append([])\n",
    "    predicted_image = prediction_groups[i]\n",
    "    for text, box in predicted_image:\n",
    "        mots[i].append(text)"
   ]
  },
  {
   "cell_type": "code",
   "execution_count": 50,
   "metadata": {},
   "outputs": [],
   "source": [
    "labels=[]\n",
    "for i in range(len(mots)):\n",
    "    labels.append(\"Carte d'identité\")"
   ]
  },
  {
   "cell_type": "code",
   "execution_count": 51,
   "metadata": {},
   "outputs": [
    {
     "name": "stdout",
     "output_type": "stream",
     "text": [
      "Looking for C:\\Users\\hugol\\.keras-ocr\\craft_mlt_25k.h5\n",
      "Looking for C:\\Users\\hugol\\.keras-ocr\\crnn_kurapan.h5\n",
      "1/1 [==============================] - 3s 3s/step\n",
      "2/2 [==============================] - 3s 265ms/step\n"
     ]
    }
   ],
   "source": [
    "pipeline2 = keras_ocr.pipeline.Pipeline()\n",
    "import os\n",
    "from keras_ocr.tools import read\n",
    "import numpy as np\n",
    "\n",
    "# Chemin du dossier contenant les images\n",
    "dossier_images2 = 'C:/Users/hugol/Desktop/cours_ece/test/ML/BDD_Finale_etape2_Papierid_leger/passeport'\n",
    "    \n",
    "# Liste tous les fichiers dans le dossier\n",
    "fichiers_images2 = [fichier2 for fichier2 in os.listdir(dossier_images2) if fichier2.endswith(('.png', '.jpg', '.jpeg'))]\n",
    "\n",
    "# Lit chaque image et stocke le résultat dans la liste images\n",
    "images2 = [read(os.path.join(dossier_images2, img2)) for img2 in fichiers_images2]\n",
    "\n",
    "# Filtrer les images vides\n",
    "images2 = [img2 for img2 in images2 if img2.shape[0] > 0 and img2.shape[1] > 0]\n",
    "\n",
    "# Vérifier que des images sont présentes avant d'appeler recognize\n",
    "if images2:\n",
    "    # generate text predictions from the images\n",
    "    prediction_groups2 = pipeline2.recognize(images2)\n",
    "else:\n",
    "    print(\"Aucune image valide trouvée dans le dossier.\")\n"
   ]
  },
  {
   "cell_type": "code",
   "execution_count": 52,
   "metadata": {},
   "outputs": [],
   "source": [
    "mots2=[]\n",
    "for i in range(len(prediction_groups2)):\n",
    "    mots2.append([])\n",
    "    predicted_image2 = prediction_groups2[i]\n",
    "    for text, box in predicted_image2:\n",
    "        mots2[i].append(text)\n",
    "\n",
    "labels2=[]\n",
    "for i in range(len(mots2)):\n",
    "    labels2.append(\"Passeport\")"
   ]
  },
  {
   "cell_type": "code",
   "execution_count": 53,
   "metadata": {},
   "outputs": [
    {
     "name": "stdout",
     "output_type": "stream",
     "text": [
      "Looking for C:\\Users\\hugol\\.keras-ocr\\craft_mlt_25k.h5\n",
      "Looking for C:\\Users\\hugol\\.keras-ocr\\crnn_kurapan.h5\n",
      "1/1 [==============================] - 7s 7s/step\n",
      "5/5 [==============================] - 7s 963ms/step\n"
     ]
    }
   ],
   "source": [
    "pipeline3 = keras_ocr.pipeline.Pipeline()\n",
    "import os\n",
    "from keras_ocr.tools import read\n",
    "import numpy as np\n",
    "\n",
    "# Chemin du dossier contenant les images\n",
    "dossier_images3 = 'C:/Users/hugol/Desktop/cours_ece/test/ML/BDD_Finale_etape2_Papierid_leger/permis'\n",
    "    \n",
    "# Liste tous les fichiers dans le dossier\n",
    "fichiers_images3 = [fichier3 for fichier3 in os.listdir(dossier_images3) if fichier3.endswith(('.png', '.jpg', '.jpeg'))]\n",
    "\n",
    "# Lit chaque image et stocke le résultat dans la liste images\n",
    "images3 = [read(os.path.join(dossier_images3, img3)) for img3 in fichiers_images3]\n",
    "\n",
    "# Filtrer les images vides\n",
    "images3 = [img3 for img3 in images3 if img3.shape[0] > 0 and img3.shape[1] > 0]\n",
    "\n",
    "# Vérifier que des images sont présentes avant d'appeler recognize\n",
    "if images3:\n",
    "    # generate text predictions from the images\n",
    "    prediction_groups3 = pipeline3.recognize(images3)\n",
    "else:\n",
    "    print(\"Aucune image valide trouvée dans le dossier.\")\n"
   ]
  },
  {
   "cell_type": "code",
   "execution_count": 54,
   "metadata": {},
   "outputs": [],
   "source": [
    "mots3=[]\n",
    "for i in range(len(prediction_groups3)):\n",
    "    mots3.append([])\n",
    "    predicted_image3 = prediction_groups3[i]\n",
    "    for text, box in predicted_image3:\n",
    "        mots3[i].append(text)\n",
    "\n",
    "labels3=[]\n",
    "for i in range(len(mots3)):\n",
    "    labels3.append(\"Permis\")"
   ]
  },
  {
   "cell_type": "code",
   "execution_count": 55,
   "metadata": {},
   "outputs": [],
   "source": [
    "#On concatene toutes les listes\n",
    "\n",
    "Mots=mots+mots2+mots3\n",
    "Labels=labels+labels2+labels3"
   ]
  },
  {
   "cell_type": "code",
   "execution_count": 56,
   "metadata": {},
   "outputs": [
    {
     "data": {
      "text/html": [
       "<div>\n",
       "<style scoped>\n",
       "    .dataframe tbody tr th:only-of-type {\n",
       "        vertical-align: middle;\n",
       "    }\n",
       "\n",
       "    .dataframe tbody tr th {\n",
       "        vertical-align: top;\n",
       "    }\n",
       "\n",
       "    .dataframe thead th {\n",
       "        text-align: right;\n",
       "    }\n",
       "</style>\n",
       "<table border=\"1\" class=\"dataframe\">\n",
       "  <thead>\n",
       "    <tr style=\"text-align: right;\">\n",
       "      <th></th>\n",
       "      <th>Labels</th>\n",
       "      <th>Mots</th>\n",
       "    </tr>\n",
       "  </thead>\n",
       "  <tbody>\n",
       "    <tr>\n",
       "      <th>0</th>\n",
       "      <td>Carte d'identité</td>\n",
       "      <td>[repuue, anse, 7oozzmio7z, carte, didentite, n...</td>\n",
       "    </tr>\n",
       "    <tr>\n",
       "      <th>1</th>\n",
       "      <td>Carte d'identité</td>\n",
       "      <td>[republique, francaise, ees, toustou, slngell,...</td>\n",
       "    </tr>\n",
       "    <tr>\n",
       "      <th>2</th>\n",
       "      <td>Carte d'identité</td>\n",
       "      <td>[epaub, r, loue, ranse, cnoin, lecuudulo, uuos...</td>\n",
       "    </tr>\n",
       "    <tr>\n",
       "      <th>3</th>\n",
       "      <td>Carte d'identité</td>\n",
       "      <td>[e, r, p, ublis, u, fra, e, nicas, e, doneant,...</td>\n",
       "    </tr>\n",
       "    <tr>\n",
       "      <th>4</th>\n",
       "      <td>Carte d'identité</td>\n",
       "      <td>[republioue, francase, cate, ancaleeien, ozasb...</td>\n",
       "    </tr>\n",
       "    <tr>\n",
       "      <th>5</th>\n",
       "      <td>Carte d'identité</td>\n",
       "      <td>[erncaees, e, luoue, rebue, eseoie, ceee, cule...</td>\n",
       "    </tr>\n",
       "    <tr>\n",
       "      <th>6</th>\n",
       "      <td>Carte d'identité</td>\n",
       "      <td>[rans, epublue, mzissazas, lues, vnoetln, coal...</td>\n",
       "    </tr>\n",
       "    <tr>\n",
       "      <th>7</th>\n",
       "      <td>Carte d'identité</td>\n",
       "      <td>[republoue, franase, crenatoerenen, o1zzasstne...</td>\n",
       "    </tr>\n",
       "    <tr>\n",
       "      <th>8</th>\n",
       "      <td>Carte d'identité</td>\n",
       "      <td>[ls, ros, lcas, ale, gode, saldlaul, ped, deao...</td>\n",
       "    </tr>\n",
       "    <tr>\n",
       "      <th>9</th>\n",
       "      <td>Carte d'identité</td>\n",
       "      <td>[dein, se, rpuoue, cand, le, e, e, n, siil, s,...</td>\n",
       "    </tr>\n",
       "    <tr>\n",
       "      <th>10</th>\n",
       "      <td>Passeport</td>\n",
       "      <td>[evlgos, cce, col]</td>\n",
       "    </tr>\n",
       "    <tr>\n",
       "      <th>11</th>\n",
       "      <td>Passeport</td>\n",
       "      <td>[republique, francaise, psotooll, ule, naas, c...</td>\n",
       "    </tr>\n",
       "    <tr>\n",
       "      <th>12</th>\n",
       "      <td>Passeport</td>\n",
       "      <td>[rerublioue, fancaise, pssepont, ousoes, lo, a...</td>\n",
       "    </tr>\n",
       "    <tr>\n",
       "      <th>13</th>\n",
       "      <td>Passeport</td>\n",
       "      <td>[wdais, ruduoul, tanciss]</td>\n",
       "    </tr>\n",
       "    <tr>\n",
       "      <th>14</th>\n",
       "      <td>Permis</td>\n",
       "      <td>[]</td>\n",
       "    </tr>\n",
       "    <tr>\n",
       "      <th>15</th>\n",
       "      <td>Permis</td>\n",
       "      <td>[]</td>\n",
       "    </tr>\n",
       "    <tr>\n",
       "      <th>16</th>\n",
       "      <td>Permis</td>\n",
       "      <td>[wipges, coe]</td>\n",
       "    </tr>\n",
       "    <tr>\n",
       "      <th>17</th>\n",
       "      <td>Permis</td>\n",
       "      <td>[uaues, ain, tueat, oune]</td>\n",
       "    </tr>\n",
       "    <tr>\n",
       "      <th>18</th>\n",
       "      <td>Permis</td>\n",
       "      <td>[permis, conduire, de, eruolous, rancalgl, dee...</td>\n",
       "    </tr>\n",
       "    <tr>\n",
       "      <th>19</th>\n",
       "      <td>Permis</td>\n",
       "      <td>[conduirt, permis, de, reru, slique, eansaes, ...</td>\n",
       "    </tr>\n",
       "    <tr>\n",
       "      <th>20</th>\n",
       "      <td>Permis</td>\n",
       "      <td>[conduire, permis, de, begubliole, flancaesl, ...</td>\n",
       "    </tr>\n",
       "    <tr>\n",
       "      <th>21</th>\n",
       "      <td>Permis</td>\n",
       "      <td>[perms, conduire, de, blrunoul, eoncase, f, ul...</td>\n",
       "    </tr>\n",
       "    <tr>\n",
       "      <th>22</th>\n",
       "      <td>Permis</td>\n",
       "      <td>[conduire, permis, de, berutliie, eantaiss, f,...</td>\n",
       "    </tr>\n",
       "    <tr>\n",
       "      <th>23</th>\n",
       "      <td>Permis</td>\n",
       "      <td>[conduire, permis, de, eru, blloue, eanlael, r...</td>\n",
       "    </tr>\n",
       "  </tbody>\n",
       "</table>\n",
       "</div>"
      ],
      "text/plain": [
       "              Labels                                               Mots\n",
       "0   Carte d'identité  [repuue, anse, 7oozzmio7z, carte, didentite, n...\n",
       "1   Carte d'identité  [republique, francaise, ees, toustou, slngell,...\n",
       "2   Carte d'identité  [epaub, r, loue, ranse, cnoin, lecuudulo, uuos...\n",
       "3   Carte d'identité  [e, r, p, ublis, u, fra, e, nicas, e, doneant,...\n",
       "4   Carte d'identité  [republioue, francase, cate, ancaleeien, ozasb...\n",
       "5   Carte d'identité  [erncaees, e, luoue, rebue, eseoie, ceee, cule...\n",
       "6   Carte d'identité  [rans, epublue, mzissazas, lues, vnoetln, coal...\n",
       "7   Carte d'identité  [republoue, franase, crenatoerenen, o1zzasstne...\n",
       "8   Carte d'identité  [ls, ros, lcas, ale, gode, saldlaul, ped, deao...\n",
       "9   Carte d'identité  [dein, se, rpuoue, cand, le, e, e, n, siil, s,...\n",
       "10         Passeport                                 [evlgos, cce, col]\n",
       "11         Passeport  [republique, francaise, psotooll, ule, naas, c...\n",
       "12         Passeport  [rerublioue, fancaise, pssepont, ousoes, lo, a...\n",
       "13         Passeport                          [wdais, ruduoul, tanciss]\n",
       "14            Permis                                                 []\n",
       "15            Permis                                                 []\n",
       "16            Permis                                      [wipges, coe]\n",
       "17            Permis                          [uaues, ain, tueat, oune]\n",
       "18            Permis  [permis, conduire, de, eruolous, rancalgl, dee...\n",
       "19            Permis  [conduirt, permis, de, reru, slique, eansaes, ...\n",
       "20            Permis  [conduire, permis, de, begubliole, flancaesl, ...\n",
       "21            Permis  [perms, conduire, de, blrunoul, eoncase, f, ul...\n",
       "22            Permis  [conduire, permis, de, berutliie, eantaiss, f,...\n",
       "23            Permis  [conduire, permis, de, eru, blloue, eanlael, r..."
      ]
     },
     "execution_count": 56,
     "metadata": {},
     "output_type": "execute_result"
    }
   ],
   "source": [
    "data = {'Labels': Labels, 'Mots': Mots}\n",
    "df = pd.DataFrame(data)\n",
    "df"
   ]
  },
  {
   "cell_type": "code",
   "execution_count": 57,
   "metadata": {},
   "outputs": [],
   "source": [
    "df.to_csv(\"BDD_etape2_A4.csv\",index=False,sep=';')"
   ]
  },
  {
   "cell_type": "code",
   "execution_count": 58,
   "metadata": {},
   "outputs": [],
   "source": [
    "#df=pd.read_csv(\"BDD_train.csv\",sep=\";\")"
   ]
  },
  {
   "cell_type": "code",
   "execution_count": 59,
   "metadata": {},
   "outputs": [
    {
     "data": {
      "text/plain": [
       "['Permis',\n",
       " 'Permis',\n",
       " 'Permis',\n",
       " 'Permis',\n",
       " 'Permis',\n",
       " 'Permis',\n",
       " 'Permis',\n",
       " 'Permis',\n",
       " 'Permis',\n",
       " 'Permis']"
      ]
     },
     "execution_count": 59,
     "metadata": {},
     "output_type": "execute_result"
    }
   ],
   "source": [
    "labels3"
   ]
  }
 ],
 "metadata": {
  "kernelspec": {
   "display_name": "Python 3",
   "language": "python",
   "name": "python3"
  },
  "language_info": {
   "codemirror_mode": {
    "name": "ipython",
    "version": 3
   },
   "file_extension": ".py",
   "mimetype": "text/x-python",
   "name": "python",
   "nbconvert_exporter": "python",
   "pygments_lexer": "ipython3",
   "version": "3.10.1"
  }
 },
 "nbformat": 4,
 "nbformat_minor": 2
}
