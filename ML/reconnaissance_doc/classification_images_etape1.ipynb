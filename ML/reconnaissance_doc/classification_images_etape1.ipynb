{
 "cells": [
  {
   "cell_type": "code",
   "execution_count": 1,
   "metadata": {},
   "outputs": [
    {
     "name": "stdout",
     "output_type": "stream",
     "text": [
      "WARNING:tensorflow:From c:\\Users\\hugol\\AppData\\Local\\Programs\\Python\\Python310\\lib\\site-packages\\keras\\src\\losses.py:2976: The name tf.losses.sparse_softmax_cross_entropy is deprecated. Please use tf.compat.v1.losses.sparse_softmax_cross_entropy instead.\n",
      "\n",
      "Found 168 images belonging to 3 classes.\n",
      "Found 40 images belonging to 3 classes.\n",
      "WARNING:tensorflow:From c:\\Users\\hugol\\AppData\\Local\\Programs\\Python\\Python310\\lib\\site-packages\\keras\\src\\backend.py:873: The name tf.get_default_graph is deprecated. Please use tf.compat.v1.get_default_graph instead.\n",
      "\n",
      "WARNING:tensorflow:From c:\\Users\\hugol\\AppData\\Local\\Programs\\Python\\Python310\\lib\\site-packages\\keras\\src\\layers\\pooling\\max_pooling2d.py:161: The name tf.nn.max_pool is deprecated. Please use tf.nn.max_pool2d instead.\n",
      "\n",
      "WARNING:tensorflow:From c:\\Users\\hugol\\AppData\\Local\\Programs\\Python\\Python310\\lib\\site-packages\\keras\\src\\optimizers\\__init__.py:309: The name tf.train.Optimizer is deprecated. Please use tf.compat.v1.train.Optimizer instead.\n",
      "\n",
      "Epoch 1/10\n",
      "WARNING:tensorflow:From c:\\Users\\hugol\\AppData\\Local\\Programs\\Python\\Python310\\lib\\site-packages\\keras\\src\\utils\\tf_utils.py:492: The name tf.ragged.RaggedTensorValue is deprecated. Please use tf.compat.v1.ragged.RaggedTensorValue instead.\n",
      "\n",
      "WARNING:tensorflow:From c:\\Users\\hugol\\AppData\\Local\\Programs\\Python\\Python310\\lib\\site-packages\\keras\\src\\engine\\base_layer_utils.py:384: The name tf.executing_eagerly_outside_functions is deprecated. Please use tf.compat.v1.executing_eagerly_outside_functions instead.\n",
      "\n",
      "3/6 [==============>...............] - ETA: 0s - loss: 1.4579 - accuracy: 0.5972"
     ]
    },
    {
     "name": "stderr",
     "output_type": "stream",
     "text": [
      "c:\\Users\\hugol\\AppData\\Local\\Programs\\Python\\Python310\\lib\\site-packages\\PIL\\Image.py:981: UserWarning: Palette images with Transparency expressed in bytes should be converted to RGBA images\n",
      "  warnings.warn(\n"
     ]
    },
    {
     "name": "stdout",
     "output_type": "stream",
     "text": [
      "6/6 [==============================] - 2s 239ms/step - loss: 1.4342 - accuracy: 0.5238 - val_loss: 0.9863 - val_accuracy: 0.5250\n",
      "Epoch 2/10\n",
      "6/6 [==============================] - 1s 172ms/step - loss: 0.7185 - accuracy: 0.6845 - val_loss: 0.4753 - val_accuracy: 0.7000\n",
      "Epoch 3/10\n",
      "6/6 [==============================] - 1s 164ms/step - loss: 0.3900 - accuracy: 0.8810 - val_loss: 0.3832 - val_accuracy: 0.8250\n",
      "Epoch 4/10\n",
      "6/6 [==============================] - 1s 184ms/step - loss: 0.2326 - accuracy: 0.9226 - val_loss: 0.2661 - val_accuracy: 0.8750\n",
      "Epoch 5/10\n",
      "6/6 [==============================] - 1s 179ms/step - loss: 0.1471 - accuracy: 0.9464 - val_loss: 0.3753 - val_accuracy: 0.9000\n",
      "Epoch 6/10\n",
      "6/6 [==============================] - 1s 208ms/step - loss: 0.0938 - accuracy: 0.9643 - val_loss: 0.3671 - val_accuracy: 0.8250\n",
      "Epoch 7/10\n",
      "6/6 [==============================] - 1s 207ms/step - loss: 0.0593 - accuracy: 0.9762 - val_loss: 0.1656 - val_accuracy: 0.9250\n",
      "Epoch 8/10\n",
      "6/6 [==============================] - 1s 193ms/step - loss: 0.0536 - accuracy: 0.9821 - val_loss: 0.0993 - val_accuracy: 0.9500\n",
      "Epoch 9/10\n",
      "6/6 [==============================] - 1s 173ms/step - loss: 0.0213 - accuracy: 0.9940 - val_loss: 0.1870 - val_accuracy: 0.9250\n",
      "Epoch 10/10\n",
      "6/6 [==============================] - 1s 205ms/step - loss: 0.0156 - accuracy: 1.0000 - val_loss: 0.0697 - val_accuracy: 0.9750\n"
     ]
    },
    {
     "data": {
      "text/plain": [
       "<keras.src.callbacks.History at 0x1ef65707d60>"
      ]
     },
     "execution_count": 1,
     "metadata": {},
     "output_type": "execute_result"
    }
   ],
   "source": [
    "import tensorflow as tf\n",
    "from tensorflow.keras import layers, models\n",
    "from tensorflow.keras.preprocessing.image import ImageDataGenerator\n",
    "\n",
    "# Chemin vers le dossier contenant les images\n",
    "train_data_dir = 'C:/Users/hugol/Desktop/cours_ece/test/ML/BDD_Finale_etape1'\n",
    "\n",
    "# Configuration des paramètres du modèle\n",
    "img_size = (128, 128)\n",
    "batch_size = 32\n",
    "\n",
    "# Création d'un générateur d'images\n",
    "train_datagen = ImageDataGenerator(rescale=1./255, validation_split=0.2)\n",
    "\n",
    "train_generator = train_datagen.flow_from_directory(\n",
    "    train_data_dir,\n",
    "    target_size=img_size,\n",
    "    batch_size=batch_size,\n",
    "    class_mode='categorical',  # Pour la classification multi-classe\n",
    "    subset='training'\n",
    ")\n",
    "\n",
    "validation_generator = train_datagen.flow_from_directory(\n",
    "    train_data_dir,\n",
    "    target_size=img_size,\n",
    "    batch_size=batch_size,\n",
    "    class_mode='categorical',\n",
    "    subset='validation'\n",
    ")\n",
    "\n",
    "# Création du modèle\n",
    "model = models.Sequential()\n",
    "model.add(layers.Conv2D(32, (3, 3), activation='relu', input_shape=(128, 128, 3)))\n",
    "model.add(layers.MaxPooling2D((2, 2)))\n",
    "model.add(layers.Conv2D(64, (3, 3), activation='relu'))\n",
    "model.add(layers.MaxPooling2D((2, 2)))\n",
    "model.add(layers.Flatten())\n",
    "model.add(layers.Dense(64, activation='relu'))\n",
    "model.add(layers.Dense(3, activation='softmax'))  # 4 classes (ordonnances, papier d'identité, facture, scanner)\n",
    "\n",
    "# Compilation du modèle \n",
    "model.compile(optimizer='adam',\n",
    "              loss='categorical_crossentropy',\n",
    "              metrics=['accuracy'])\n",
    "\n",
    "# Entraînement du modèle\n",
    "model.fit(train_generator, epochs=10, validation_data=validation_generator)\n",
    "\n"
   ]
  },
  {
   "cell_type": "code",
   "execution_count": 2,
   "metadata": {},
   "outputs": [
    {
     "name": "stdout",
     "output_type": "stream",
     "text": [
      "1/1 [==============================] - 0s 114ms/step\n",
      "La classe prédite pour l'image est : papier_identite\n"
     ]
    }
   ],
   "source": [
    "# Utilisation du modèle pour la classification d'une nouvelle image\n",
    "#new_image_path = 'C:/Users/hugol/Desktop/cours_ece/test/ML/validation/main-qimg-51e506af06e7583536f744e9e689863a-pjlq.jpg'\n",
    "#new_image_path = 'C:/Users/hugol/Desktop/cours_ece/test/ML/validation/Modele-ordonnance-medicale-Word-gratuit.jpg'\n",
    "#new_image_path = 'C:/Users/hugol/Desktop/cours_ece/test/ML/validation/arton465.png'\n",
    "new_image_path = 'C:/Users/hugol/Desktop/cours_ece/test/ML/validation/carte-identite-1200x630.jpg'\n",
    "new_image = tf.keras.preprocessing.image.load_img(new_image_path, target_size=img_size)\n",
    "new_image_array = tf.keras.preprocessing.image.img_to_array(new_image)\n",
    "new_image_array = tf.expand_dims(new_image_array, 0)  # Ajoute une dimension pour le lot (batch)\n",
    "\n",
    "predictions = model.predict(new_image_array)\n",
    "predicted_class = tf.argmax(predictions[0]).numpy()\n",
    "class_names = train_generator.class_indices  # Dictionnaire des indices de classe\n",
    "predicted_class_name = [k for k, v in class_names.items() if v == predicted_class][0]\n",
    "\n",
    "print(f'La classe prédite pour l\\'image est : {predicted_class_name}')\n"
   ]
  },
  {
   "cell_type": "code",
   "execution_count": 3,
   "metadata": {},
   "outputs": [
    {
     "name": "stdout",
     "output_type": "stream",
     "text": [
      "INFO:tensorflow:Assets written to: C:/Users/hugol/Desktop/cours_ece/test/ML/Flux_final/Model_cat_etape1\\assets\n"
     ]
    },
    {
     "name": "stderr",
     "output_type": "stream",
     "text": [
      "INFO:tensorflow:Assets written to: C:/Users/hugol/Desktop/cours_ece/test/ML/Flux_final/Model_cat_etape1\\assets\n"
     ]
    }
   ],
   "source": [
    "model.save('C:/Users/hugol/Desktop/cours_ece/test/ML/Flux_final/Model_cat_etape1')"
   ]
  },
  {
   "cell_type": "code",
   "execution_count": 4,
   "metadata": {},
   "outputs": [
    {
     "data": {
      "text/plain": [
       "{'PapierA4': 0, 'imagerie_medicale': 1, 'papier_identite': 2}"
      ]
     },
     "execution_count": 4,
     "metadata": {},
     "output_type": "execute_result"
    }
   ],
   "source": [
    "class_names"
   ]
  }
 ],
 "metadata": {
  "kernelspec": {
   "display_name": "Python 3",
   "language": "python",
   "name": "python3"
  },
  "language_info": {
   "codemirror_mode": {
    "name": "ipython",
    "version": 3
   },
   "file_extension": ".py",
   "mimetype": "text/x-python",
   "name": "python",
   "nbconvert_exporter": "python",
   "pygments_lexer": "ipython3",
   "version": "3.10.1"
  }
 },
 "nbformat": 4,
 "nbformat_minor": 2
}
