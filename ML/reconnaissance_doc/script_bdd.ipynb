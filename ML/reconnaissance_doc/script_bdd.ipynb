{
 "cells": [
  {
   "cell_type": "code",
   "execution_count": 39,
   "metadata": {},
   "outputs": [],
   "source": [
    "import numpy as np \n",
    "import pandas as pd \n"
   ]
  },
  {
   "cell_type": "code",
   "execution_count": 49,
   "metadata": {},
   "outputs": [
    {
     "name": "stdout",
     "output_type": "stream",
     "text": [
      "C:/Users/hugol/Desktop/cours_ece/test/ML/BDD_entrainement/ordonnance\\53412_IMG_27228_HR.jpg\n",
      "C:/Users/hugol/Desktop/cours_ece/test/ML/BDD_entrainement/ordonnance\\Capture-deecran-2022-02-24-aa-09.26.21.png\n",
      "C:/Users/hugol/Desktop/cours_ece/test/ML/BDD_entrainement/ordonnance\\cropped-ordonnance-arreteee-660x330.png\n",
      "C:/Users/hugol/Desktop/cours_ece/test/ML/BDD_entrainement/ordonnance\\images.jpg\n",
      "C:/Users/hugol/Desktop/cours_ece/test/ML/BDD_entrainement/ordonnance\\images.png\n",
      "C:/Users/hugol/Desktop/cours_ece/test/ML/BDD_entrainement/ordonnance\\images1.png\n",
      "C:/Users/hugol/Desktop/cours_ece/test/ML/BDD_entrainement/ordonnance\\media.jpg\n",
      "C:/Users/hugol/Desktop/cours_ece/test/ML/BDD_entrainement/ordonnance\\Modele-ordonnance-medicale-Word-gratuit.jpg\n",
      "C:/Users/hugol/Desktop/cours_ece/test/ML/BDD_entrainement/ordonnance\\ordognr.png\n",
      "C:/Users/hugol/Desktop/cours_ece/test/ML/BDD_entrainement/ordonnance\\ordonnance-decryptee_0.jpg\n",
      "C:/Users/hugol/Desktop/cours_ece/test/ML/BDD_entrainement/ordonnance\\ordonnance-pharmacie-1.png\n",
      "C:/Users/hugol/Desktop/cours_ece/test/ML/BDD_entrainement/ordonnance\\schema-ordonnance.png\n"
     ]
    }
   ],
   "source": [
    "import os\n",
    "for dirname, _, filenames in os.walk('C:/Users/hugol/Desktop/cours_ece/test/ML/BDD_entrainement/ordonnance' ) :\n",
    "    for filename in filenames:\n",
    "        print(os.path.join(dirname, filename))"
   ]
  },
  {
   "cell_type": "code",
   "execution_count": 41,
   "metadata": {},
   "outputs": [],
   "source": [
    "#!pip install -q keras-ocr\n",
    "#from IPython.display import clear_output   \n",
    "#clear_output()"
   ]
  },
  {
   "cell_type": "code",
   "execution_count": 42,
   "metadata": {},
   "outputs": [],
   "source": [
    "#pip install --upgrade keras-ocr"
   ]
  },
  {
   "cell_type": "code",
   "execution_count": 43,
   "metadata": {},
   "outputs": [],
   "source": [
    "#pip install --upgrade tensorflow\n"
   ]
  },
  {
   "cell_type": "code",
   "execution_count": 44,
   "metadata": {},
   "outputs": [],
   "source": [
    "import tensorflow"
   ]
  },
  {
   "cell_type": "code",
   "execution_count": 45,
   "metadata": {},
   "outputs": [],
   "source": [
    "import keras_ocr\n",
    "import matplotlib.pyplot as plt"
   ]
  },
  {
   "cell_type": "code",
   "execution_count": 50,
   "metadata": {},
   "outputs": [
    {
     "name": "stdout",
     "output_type": "stream",
     "text": [
      "Looking for C:\\Users\\hugol\\.keras-ocr\\craft_mlt_25k.h5\n",
      "Looking for C:\\Users\\hugol\\.keras-ocr\\crnn_kurapan.h5\n"
     ]
    }
   ],
   "source": [
    "pipeline = keras_ocr.pipeline.Pipeline()"
   ]
  },
  {
   "cell_type": "code",
   "execution_count": 51,
   "metadata": {},
   "outputs": [
    {
     "name": "stdout",
     "output_type": "stream",
     "text": [
      "1/1 [==============================] - 319s 319s/step\n",
      "21/21 [==============================] - 38s 1s/step\n"
     ]
    }
   ],
   "source": [
    "import os\n",
    "from keras_ocr.tools import read\n",
    "import numpy as np\n",
    "\n",
    "# Chemin du dossier contenant les images\n",
    "dossier_images = 'C:/Users/hugol/Desktop/cours_ece/test/ML/BDD_entrainement/ordonnance'\n",
    "\n",
    "# Liste tous les fichiers dans le dossier\n",
    "fichiers_images = [fichier for fichier in os.listdir(dossier_images) if fichier.endswith(('.png', '.jpg', '.jpeg'))]\n",
    "\n",
    "# Lit chaque image et stocke le résultat dans la liste images\n",
    "images = [read(os.path.join(dossier_images, img)) for img in fichiers_images]\n",
    "\n",
    "# Filtrer les images vides\n",
    "images = [img for img in images if img.shape[0] > 0 and img.shape[1] > 0]\n",
    "\n",
    "# Vérifier que des images sont présentes avant d'appeler recognize\n",
    "if images:\n",
    "    # generate text predictions from the images\n",
    "    prediction_groups = pipeline.recognize(images)\n",
    "else:\n",
    "    print(\"Aucune image valide trouvée dans le dossier.\")\n"
   ]
  },
  {
   "cell_type": "code",
   "execution_count": 52,
   "metadata": {},
   "outputs": [],
   "source": [
    "mots=[]\n",
    "for i in range(len(prediction_groups)):\n",
    "    mots.append([])\n",
    "    predicted_image = prediction_groups[i]\n",
    "    for text, box in predicted_image:\n",
    "        mots[i].append(text)"
   ]
  },
  {
   "cell_type": "code",
   "execution_count": 53,
   "metadata": {},
   "outputs": [],
   "source": [
    "labels=[]\n",
    "for i in range(len(mots)):\n",
    "    labels.append(\"ordonnances\")"
   ]
  },
  {
   "cell_type": "code",
   "execution_count": 54,
   "metadata": {},
   "outputs": [
    {
     "name": "stdout",
     "output_type": "stream",
     "text": [
      "Looking for C:\\Users\\hugol\\.keras-ocr\\craft_mlt_25k.h5\n",
      "Looking for C:\\Users\\hugol\\.keras-ocr\\crnn_kurapan.h5\n",
      "1/1 [==============================] - 83s 83s/step\n",
      "8/8 [==============================] - 19s 1s/step\n"
     ]
    }
   ],
   "source": [
    "pipeline2 = keras_ocr.pipeline.Pipeline()\n",
    "import os\n",
    "from keras_ocr.tools import read\n",
    "import numpy as np\n",
    "\n",
    "# Chemin du dossier contenant les images\n",
    "dossier_images2 = 'C:/Users/hugol/Desktop/cours_ece/test/ML/BDD_entrainement/papier_identite2'\n",
    "\n",
    "# Liste tous les fichiers dans le dossier\n",
    "fichiers_images2 = [fichier2 for fichier2 in os.listdir(dossier_images2) if fichier2.endswith(('.png', '.jpg', '.jpeg'))]\n",
    "\n",
    "# Lit chaque image et stocke le résultat dans la liste images\n",
    "images2 = [read(os.path.join(dossier_images2, img2)) for img2 in fichiers_images2]\n",
    "\n",
    "# Filtrer les images vides\n",
    "images2 = [img2 for img2 in images2 if img2.shape[0] > 0 and img2.shape[1] > 0]\n",
    "\n",
    "# Vérifier que des images sont présentes avant d'appeler recognize\n",
    "if images2:\n",
    "    # generate text predictions from the images\n",
    "    prediction_groups2 = pipeline2.recognize(images2)\n",
    "else:\n",
    "    print(\"Aucune image valide trouvée dans le dossier.\")\n"
   ]
  },
  {
   "cell_type": "code",
   "execution_count": 55,
   "metadata": {},
   "outputs": [],
   "source": [
    "mots2=[]\n",
    "for i in range(len(prediction_groups2)):\n",
    "    mots2.append([])\n",
    "    predicted_image2 = prediction_groups2[i]\n",
    "    for text, box in predicted_image2:\n",
    "        mots2[i].append(text)\n",
    "\n",
    "labels2=[]\n",
    "for i in range(len(mots2)):\n",
    "    labels2.append(\"Papier d'identité\")"
   ]
  },
  {
   "cell_type": "code",
   "execution_count": null,
   "metadata": {},
   "outputs": [
    {
     "data": {
      "text/plain": [
       "10"
      ]
     },
     "execution_count": 19,
     "metadata": {},
     "output_type": "execute_result"
    }
   ],
   "source": []
  },
  {
   "cell_type": "code",
   "execution_count": 56,
   "metadata": {},
   "outputs": [],
   "source": [
    "#On concatene toutes les listes\n",
    "\n",
    "Mots=mots+mots2\n",
    "Labels=labels+labels2"
   ]
  },
  {
   "cell_type": "code",
   "execution_count": 57,
   "metadata": {},
   "outputs": [
    {
     "data": {
      "text/html": [
       "<div>\n",
       "<style scoped>\n",
       "    .dataframe tbody tr th:only-of-type {\n",
       "        vertical-align: middle;\n",
       "    }\n",
       "\n",
       "    .dataframe tbody tr th {\n",
       "        vertical-align: top;\n",
       "    }\n",
       "\n",
       "    .dataframe thead th {\n",
       "        text-align: right;\n",
       "    }\n",
       "</style>\n",
       "<table border=\"1\" class=\"dataframe\">\n",
       "  <thead>\n",
       "    <tr style=\"text-align: right;\">\n",
       "      <th></th>\n",
       "      <th>Labels</th>\n",
       "      <th>Mots</th>\n",
       "    </tr>\n",
       "  </thead>\n",
       "  <tbody>\n",
       "    <tr>\n",
       "      <th>0</th>\n",
       "      <td>ordonnances</td>\n",
       "      <td>[lcute, gcs, doleet, lnolote, opl, recols, tu,...</td>\n",
       "    </tr>\n",
       "    <tr>\n",
       "      <th>1</th>\n",
       "      <td>ordonnances</td>\n",
       "      <td>[dr, ogiizong, e, 2210211955, m, le, prescript...</td>\n",
       "    </tr>\n",
       "    <tr>\n",
       "      <th>2</th>\n",
       "      <td>ordonnances</td>\n",
       "      <td>[ordonnance, falte, 712018, ibachirene, les, p...</td>\n",
       "    </tr>\n",
       "    <tr>\n",
       "      <th>3</th>\n",
       "      <td>ordonnances</td>\n",
       "      <td>[onponnace, rgs, osps, imanain, sg, sel, spes,...</td>\n",
       "    </tr>\n",
       "    <tr>\n",
       "      <th>4</th>\n",
       "      <td>ordonnances</td>\n",
       "      <td>[coeos]</td>\n",
       "    </tr>\n",
       "    <tr>\n",
       "      <th>5</th>\n",
       "      <td>ordonnances</td>\n",
       "      <td>[or, bachirene, abdelkein, ordonnance, mooet, ...</td>\n",
       "    </tr>\n",
       "    <tr>\n",
       "      <th>6</th>\n",
       "      <td>ordonnances</td>\n",
       "      <td>[dostrur, blartn, mnorn, scucns, gtnttae, lu, ...</td>\n",
       "    </tr>\n",
       "    <tr>\n",
       "      <th>7</th>\n",
       "      <td>ordonnances</td>\n",
       "      <td>[dr, arnaud, provost, 121, daguessac, rue, med...</td>\n",
       "    </tr>\n",
       "    <tr>\n",
       "      <th>8</th>\n",
       "      <td>ordonnances</td>\n",
       "      <td>[docteur, nom, prenom, date, de, redaction, qu...</td>\n",
       "    </tr>\n",
       "    <tr>\n",
       "      <th>9</th>\n",
       "      <td>ordonnances</td>\n",
       "      <td>[republique, docreur, de, la, rue, medecine, g...</td>\n",
       "    </tr>\n",
       "    <tr>\n",
       "      <th>10</th>\n",
       "      <td>ordonnances</td>\n",
       "      <td>[dr, arnaud, provo, 121, rue, daguesseau, gene...</td>\n",
       "    </tr>\n",
       "    <tr>\n",
       "      <th>11</th>\n",
       "      <td>ordonnances</td>\n",
       "      <td>[xx, docteur, vision, selarl, evian, pierre, g...</td>\n",
       "    </tr>\n",
       "    <tr>\n",
       "      <th>12</th>\n",
       "      <td>Papier d'identité</td>\n",
       "      <td>[repuioue, anse, didentine, 770077smi0777, car...</td>\n",
       "    </tr>\n",
       "    <tr>\n",
       "      <th>13</th>\n",
       "      <td>Papier d'identité</td>\n",
       "      <td>[le, repuue, ranse, oucett, cnt, natosl, soesn...</td>\n",
       "    </tr>\n",
       "    <tr>\n",
       "      <th>14</th>\n",
       "      <td>Papier d'identité</td>\n",
       "      <td>[republique, francaise, ees, ce, oustou, sngel...</td>\n",
       "    </tr>\n",
       "    <tr>\n",
       "      <th>15</th>\n",
       "      <td>Papier d'identité</td>\n",
       "      <td>[republioue, francase, cate, ancaleeien, izeeb...</td>\n",
       "    </tr>\n",
       "    <tr>\n",
       "      <th>16</th>\n",
       "      <td>Papier d'identité</td>\n",
       "      <td>[erangaoes, e, luoue, rebue, losseoe, coleosl,...</td>\n",
       "    </tr>\n",
       "    <tr>\n",
       "      <th>17</th>\n",
       "      <td>Papier d'identité</td>\n",
       "      <td>[]</td>\n",
       "    </tr>\n",
       "    <tr>\n",
       "      <th>18</th>\n",
       "      <td>Papier d'identité</td>\n",
       "      <td>[ncaus, fra, epublue, mzssazgas, lues, vnoetln...</td>\n",
       "    </tr>\n",
       "    <tr>\n",
       "      <th>19</th>\n",
       "      <td>Papier d'identité</td>\n",
       "      <td>[republoue, franase, crenatolerenen, o1zzasstn...</td>\n",
       "    </tr>\n",
       "    <tr>\n",
       "      <th>20</th>\n",
       "      <td>Papier d'identité</td>\n",
       "      <td>[epubloue, r, fraone, cane, sonall, png, t, ol...</td>\n",
       "    </tr>\n",
       "    <tr>\n",
       "      <th>21</th>\n",
       "      <td>Papier d'identité</td>\n",
       "      <td>[e, co, aro, liccs, ateee, cude, saldlaul, den...</td>\n",
       "    </tr>\n",
       "  </tbody>\n",
       "</table>\n",
       "</div>"
      ],
      "text/plain": [
       "               Labels                                               Mots\n",
       "0         ordonnances  [lcute, gcs, doleet, lnolote, opl, recols, tu,...\n",
       "1         ordonnances  [dr, ogiizong, e, 2210211955, m, le, prescript...\n",
       "2         ordonnances  [ordonnance, falte, 712018, ibachirene, les, p...\n",
       "3         ordonnances  [onponnace, rgs, osps, imanain, sg, sel, spes,...\n",
       "4         ordonnances                                            [coeos]\n",
       "5         ordonnances  [or, bachirene, abdelkein, ordonnance, mooet, ...\n",
       "6         ordonnances  [dostrur, blartn, mnorn, scucns, gtnttae, lu, ...\n",
       "7         ordonnances  [dr, arnaud, provost, 121, daguessac, rue, med...\n",
       "8         ordonnances  [docteur, nom, prenom, date, de, redaction, qu...\n",
       "9         ordonnances  [republique, docreur, de, la, rue, medecine, g...\n",
       "10        ordonnances  [dr, arnaud, provo, 121, rue, daguesseau, gene...\n",
       "11        ordonnances  [xx, docteur, vision, selarl, evian, pierre, g...\n",
       "12  Papier d'identité  [repuioue, anse, didentine, 770077smi0777, car...\n",
       "13  Papier d'identité  [le, repuue, ranse, oucett, cnt, natosl, soesn...\n",
       "14  Papier d'identité  [republique, francaise, ees, ce, oustou, sngel...\n",
       "15  Papier d'identité  [republioue, francase, cate, ancaleeien, izeeb...\n",
       "16  Papier d'identité  [erangaoes, e, luoue, rebue, losseoe, coleosl,...\n",
       "17  Papier d'identité                                                 []\n",
       "18  Papier d'identité  [ncaus, fra, epublue, mzssazgas, lues, vnoetln...\n",
       "19  Papier d'identité  [republoue, franase, crenatolerenen, o1zzasstn...\n",
       "20  Papier d'identité  [epubloue, r, fraone, cane, sonall, png, t, ol...\n",
       "21  Papier d'identité  [e, co, aro, liccs, ateee, cude, saldlaul, den..."
      ]
     },
     "execution_count": 57,
     "metadata": {},
     "output_type": "execute_result"
    }
   ],
   "source": [
    "data = {'Labels': Labels, 'Mots': Mots}\n",
    "df = pd.DataFrame(data)\n",
    "df"
   ]
  }
 ],
 "metadata": {
  "kernelspec": {
   "display_name": "Python 3",
   "language": "python",
   "name": "python3"
  },
  "language_info": {
   "codemirror_mode": {
    "name": "ipython",
    "version": 3
   },
   "file_extension": ".py",
   "mimetype": "text/x-python",
   "name": "python",
   "nbconvert_exporter": "python",
   "pygments_lexer": "ipython3",
   "version": "3.10.1"
  }
 },
 "nbformat": 4,
 "nbformat_minor": 2
}
