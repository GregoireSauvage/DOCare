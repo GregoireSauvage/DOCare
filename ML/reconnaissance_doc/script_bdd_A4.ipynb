{
 "cells": [
  {
   "cell_type": "code",
   "execution_count": 1,
   "metadata": {},
   "outputs": [],
   "source": [
    "import numpy as np \n",
    "import pandas as pd \n"
   ]
  },
  {
   "cell_type": "code",
   "execution_count": 2,
   "metadata": {},
   "outputs": [
    {
     "name": "stdout",
     "output_type": "stream",
     "text": [
      "C:/Users/hugol/Desktop/cours_ece/test/ML/BDD_Finale_etape2_A4_leger/factures\\5191382949_90fa605650_z.jpg\n",
      "C:/Users/hugol/Desktop/cours_ece/test/ML/BDD_Finale_etape2_A4_leger/factures\\article-5-3-facture.jpg\n",
      "C:/Users/hugol/Desktop/cours_ece/test/ML/BDD_Finale_etape2_A4_leger/factures\\Capture_decran_2024-02-05_113904.jpg\n",
      "C:/Users/hugol/Desktop/cours_ece/test/ML/BDD_Finale_etape2_A4_leger/factures\\Cligraphcrm_facture.jpg\n",
      "C:/Users/hugol/Desktop/cours_ece/test/ML/BDD_Finale_etape2_A4_leger/factures\\exemple-de-facture-auto-entrepreneur.jpg\n",
      "C:/Users/hugol/Desktop/cours_ece/test/ML/BDD_Finale_etape2_A4_leger/factures\\exemple-facture-infast-article-1440x2036.jpg\n",
      "C:/Users/hugol/Desktop/cours_ece/test/ML/BDD_Finale_etape2_A4_leger/factures\\exemple-gratuit-de-modele-de-facture-Word.jpg\n",
      "C:/Users/hugol/Desktop/cours_ece/test/ML/BDD_Finale_etape2_A4_leger/factures\\facture4.jpg\n",
      "C:/Users/hugol/Desktop/cours_ece/test/ML/BDD_Finale_etape2_A4_leger/factures\\Facture_complete.jpg\n",
      "C:/Users/hugol/Desktop/cours_ece/test/ML/BDD_Finale_etape2_A4_leger/factures\\facture_location_mobile_premiere_page1_assistance_sfr.jpg\n"
     ]
    }
   ],
   "source": [
    "import os\n",
    "for dirname, _, filenames in os.walk('C:/Users/hugol/Desktop/cours_ece/test/ML/BDD_Finale_etape2_A4_leger/factures' ) :\n",
    "    for filename in filenames:\n",
    "        print(os.path.join(dirname, filename))"
   ]
  },
  {
   "cell_type": "code",
   "execution_count": 3,
   "metadata": {},
   "outputs": [],
   "source": [
    "#!pip install -q keras-ocr\n",
    "#from IPython.display import clear_output   \n",
    "#clear_output()"
   ]
  },
  {
   "cell_type": "code",
   "execution_count": 4,
   "metadata": {},
   "outputs": [],
   "source": [
    "#pip install --upgrade keras-ocr"
   ]
  },
  {
   "cell_type": "code",
   "execution_count": 5,
   "metadata": {},
   "outputs": [],
   "source": [
    "#pip install --upgrade tensorflow\n"
   ]
  },
  {
   "cell_type": "code",
   "execution_count": 6,
   "metadata": {},
   "outputs": [
    {
     "name": "stdout",
     "output_type": "stream",
     "text": [
      "WARNING:tensorflow:From c:\\Users\\hugol\\AppData\\Local\\Programs\\Python\\Python310\\lib\\site-packages\\keras\\src\\losses.py:2976: The name tf.losses.sparse_softmax_cross_entropy is deprecated. Please use tf.compat.v1.losses.sparse_softmax_cross_entropy instead.\n",
      "\n"
     ]
    }
   ],
   "source": [
    "import tensorflow"
   ]
  },
  {
   "cell_type": "code",
   "execution_count": 7,
   "metadata": {},
   "outputs": [
    {
     "name": "stdout",
     "output_type": "stream",
     "text": [
      "WARNING:tensorflow:From c:\\Users\\hugol\\AppData\\Local\\Programs\\Python\\Python310\\lib\\site-packages\\keras\\src\\backend.py:873: The name tf.get_default_graph is deprecated. Please use tf.compat.v1.get_default_graph instead.\n",
      "\n"
     ]
    }
   ],
   "source": [
    "import keras_ocr\n",
    "import matplotlib.pyplot as plt"
   ]
  },
  {
   "cell_type": "code",
   "execution_count": 8,
   "metadata": {},
   "outputs": [
    {
     "name": "stdout",
     "output_type": "stream",
     "text": [
      "Looking for C:\\Users\\hugol\\.keras-ocr\\craft_mlt_25k.h5\n",
      "WARNING:tensorflow:From c:\\Users\\hugol\\AppData\\Local\\Programs\\Python\\Python310\\lib\\site-packages\\keras\\src\\layers\\normalization\\batch_normalization.py:979: The name tf.nn.fused_batch_norm is deprecated. Please use tf.compat.v1.nn.fused_batch_norm instead.\n",
      "\n",
      "WARNING:tensorflow:From c:\\Users\\hugol\\AppData\\Local\\Programs\\Python\\Python310\\lib\\site-packages\\tensorflow\\python\\util\\dispatch.py:1260: resize_bilinear (from tensorflow.python.ops.image_ops_impl) is deprecated and will be removed in a future version.\n",
      "Instructions for updating:\n",
      "Use `tf.image.resize(...method=ResizeMethod.BILINEAR...)` instead.\n",
      "WARNING:tensorflow:From c:\\Users\\hugol\\AppData\\Local\\Programs\\Python\\Python310\\lib\\site-packages\\keras\\src\\optimizers\\__init__.py:309: The name tf.train.Optimizer is deprecated. Please use tf.compat.v1.train.Optimizer instead.\n",
      "\n",
      "Looking for C:\\Users\\hugol\\.keras-ocr\\crnn_kurapan.h5\n"
     ]
    }
   ],
   "source": [
    "pipeline = keras_ocr.pipeline.Pipeline()"
   ]
  },
  {
   "cell_type": "code",
   "execution_count": 9,
   "metadata": {},
   "outputs": [
    {
     "name": "stdout",
     "output_type": "stream",
     "text": [
      "1/1 [==============================] - 219s 219s/step\n",
      "53/53 [==============================] - 78s 1s/step\n"
     ]
    }
   ],
   "source": [
    "import os\n",
    "from keras_ocr.tools import read\n",
    "import numpy as np\n",
    "\n",
    "# Chemin du dossier contenant les images\n",
    "dossier_images = 'C:/Users/hugol/Desktop/cours_ece/test/ML/BDD_Finale_etape2_A4_leger/factures'\n",
    "\n",
    "# Liste tous les fichiers dans le dossier\n",
    "fichiers_images = [fichier for fichier in os.listdir(dossier_images) if fichier.endswith(('.png', '.jpg', '.jpeg'))]\n",
    "\n",
    "# Lit chaque image et stocke le résultat dans la liste images\n",
    "images = [read(os.path.join(dossier_images, img)) for img in fichiers_images]\n",
    "\n",
    "# Filtrer les images vides\n",
    "images = [img for img in images if img.shape[0] > 0 and img.shape[1] > 0]\n",
    "\n",
    "# Vérifier que des images sont présentes avant d'appeler recognize\n",
    "if images:\n",
    "    # generate text predictions from the images\n",
    "    prediction_groups = pipeline.recognize(images)\n",
    "else:\n",
    "    print(\"Aucune image valide trouvée dans le dossier.\")\n"
   ]
  },
  {
   "cell_type": "code",
   "execution_count": 10,
   "metadata": {},
   "outputs": [],
   "source": [
    "mots=[]\n",
    "for i in range(len(prediction_groups)):\n",
    "    mots.append([])\n",
    "    predicted_image = prediction_groups[i]\n",
    "    for text, box in predicted_image:\n",
    "        mots[i].append(text)"
   ]
  },
  {
   "cell_type": "code",
   "execution_count": 18,
   "metadata": {},
   "outputs": [],
   "source": [
    "labels=[]\n",
    "for i in range(len(mots)):\n",
    "    labels.append(\"Facture\")"
   ]
  },
  {
   "cell_type": "code",
   "execution_count": 23,
   "metadata": {},
   "outputs": [
    {
     "name": "stdout",
     "output_type": "stream",
     "text": [
      "Looking for C:\\Users\\hugol\\.keras-ocr\\craft_mlt_25k.h5\n",
      "Looking for C:\\Users\\hugol\\.keras-ocr\\crnn_kurapan.h5\n",
      "1/1 [==============================] - 194s 194s/step\n",
      "10/10 [==============================] - 19s 1s/step\n"
     ]
    }
   ],
   "source": [
    "pipeline2 = keras_ocr.pipeline.Pipeline()\n",
    "import os\n",
    "from keras_ocr.tools import read\n",
    "import numpy as np\n",
    "\n",
    "# Chemin du dossier contenant les images\n",
    "dossier_images2 = 'C:/Users/hugol/Desktop/cours_ece/test/ML/BDD_Finale_etape2_A4_leger/ordonnance'\n",
    "    \n",
    "# Liste tous les fichiers dans le dossier\n",
    "fichiers_images2 = [fichier2 for fichier2 in os.listdir(dossier_images2) if fichier2.endswith(('.png', '.jpg', '.jpeg'))]\n",
    "\n",
    "# Lit chaque image et stocke le résultat dans la liste images\n",
    "images2 = [read(os.path.join(dossier_images2, img2)) for img2 in fichiers_images2]\n",
    "\n",
    "# Filtrer les images vides\n",
    "images2 = [img2 for img2 in images2 if img2.shape[0] > 0 and img2.shape[1] > 0]\n",
    "\n",
    "# Vérifier que des images sont présentes avant d'appeler recognize\n",
    "if images2:\n",
    "    # generate text predictions from the images\n",
    "    prediction_groups2 = pipeline2.recognize(images2)\n",
    "else:\n",
    "    print(\"Aucune image valide trouvée dans le dossier.\")\n"
   ]
  },
  {
   "cell_type": "code",
   "execution_count": 24,
   "metadata": {},
   "outputs": [],
   "source": [
    "mots2=[]\n",
    "for i in range(len(prediction_groups2)):\n",
    "    mots2.append([])\n",
    "    predicted_image2 = prediction_groups2[i]\n",
    "    for text, box in predicted_image2:\n",
    "        mots2[i].append(text)\n",
    "\n",
    "labels2=[]\n",
    "for i in range(len(mots2)):\n",
    "    labels2.append(\"Ordonnance\")"
   ]
  },
  {
   "cell_type": "code",
   "execution_count": 25,
   "metadata": {},
   "outputs": [],
   "source": [
    "#On concatene toutes les listes\n",
    "\n",
    "Mots=mots+mots2\n",
    "Labels=labels+labels2"
   ]
  },
  {
   "cell_type": "code",
   "execution_count": 26,
   "metadata": {},
   "outputs": [
    {
     "data": {
      "text/html": [
       "<div>\n",
       "<style scoped>\n",
       "    .dataframe tbody tr th:only-of-type {\n",
       "        vertical-align: middle;\n",
       "    }\n",
       "\n",
       "    .dataframe tbody tr th {\n",
       "        vertical-align: top;\n",
       "    }\n",
       "\n",
       "    .dataframe thead th {\n",
       "        text-align: right;\n",
       "    }\n",
       "</style>\n",
       "<table border=\"1\" class=\"dataframe\">\n",
       "  <thead>\n",
       "    <tr style=\"text-align: right;\">\n",
       "      <th></th>\n",
       "      <th>Labels</th>\n",
       "      <th>Mots</th>\n",
       "    </tr>\n",
       "  </thead>\n",
       "  <tbody>\n",
       "    <tr>\n",
       "      <th>0</th>\n",
       "      <td>Facture</td>\n",
       "      <td>[demo, expert, s, expent, comptable, commissai...</td>\n",
       "    </tr>\n",
       "    <tr>\n",
       "      <th>1</th>\n",
       "      <td>Facture</td>\n",
       "      <td>[vattenfall, loader, sucdois, ronergio, do, 8,...</td>\n",
       "    </tr>\n",
       "    <tr>\n",
       "      <th>2</th>\n",
       "      <td>Facture</td>\n",
       "      <td>[facture, no, 201808003, entreprise, mon, sa, ...</td>\n",
       "    </tr>\n",
       "    <tr>\n",
       "      <th>3</th>\n",
       "      <td>Facture</td>\n",
       "      <td>[facture, e, no, 10003567, en, cosives, page, ...</td>\n",
       "    </tr>\n",
       "    <tr>\n",
       "      <th>4</th>\n",
       "      <td>Facture</td>\n",
       "      <td>[facture, ref, facturer, fa210goo001, lemoineb...</td>\n",
       "    </tr>\n",
       "    <tr>\n",
       "      <th>5</th>\n",
       "      <td>Facture</td>\n",
       "      <td>[facture, mon, reference, f20231, 00044, entre...</td>\n",
       "    </tr>\n",
       "    <tr>\n",
       "      <th>6</th>\n",
       "      <td>Facture</td>\n",
       "      <td>[facture, pro, cleaners, faubourg, saint, 60, ...</td>\n",
       "    </tr>\n",
       "    <tr>\n",
       "      <th>7</th>\n",
       "      <td>Facture</td>\n",
       "      <td>[sa, bounss, facture, eur, en, toeees, oo, coe...</td>\n",
       "    </tr>\n",
       "    <tr>\n",
       "      <th>8</th>\n",
       "      <td>Facture</td>\n",
       "      <td>[durand, g, bourgelat, d, durand, fu1500467, j...</td>\n",
       "    </tr>\n",
       "    <tr>\n",
       "      <th>9</th>\n",
       "      <td>Facture</td>\n",
       "      <td>[sfr, martin, dupont, bonjour, mr, 1310312017,...</td>\n",
       "    </tr>\n",
       "    <tr>\n",
       "      <th>10</th>\n",
       "      <td>Ordonnance</td>\n",
       "      <td>[oees]</td>\n",
       "    </tr>\n",
       "    <tr>\n",
       "      <th>11</th>\n",
       "      <td>Ordonnance</td>\n",
       "      <td>[reneaed, dallalie, di, bedecin, rep, udell, e...</td>\n",
       "    </tr>\n",
       "    <tr>\n",
       "      <th>12</th>\n",
       "      <td>Ordonnance</td>\n",
       "      <td>[docteur, nom, prenom, date, de, redaction, qu...</td>\n",
       "    </tr>\n",
       "    <tr>\n",
       "      <th>13</th>\n",
       "      <td>Ordonnance</td>\n",
       "      <td>[dr, arnaud, provo, 121, rue, daguesseau, gene...</td>\n",
       "    </tr>\n",
       "    <tr>\n",
       "      <th>14</th>\n",
       "      <td>Ordonnance</td>\n",
       "      <td>[david, seifeddine, selarl, ophta, future, dr,...</td>\n",
       "    </tr>\n",
       "    <tr>\n",
       "      <th>15</th>\n",
       "      <td>Ordonnance</td>\n",
       "      <td>[x, e, dieoe, lefoe, soe, d, efold]</td>\n",
       "    </tr>\n",
       "    <tr>\n",
       "      <th>16</th>\n",
       "      <td>Ordonnance</td>\n",
       "      <td>[]</td>\n",
       "    </tr>\n",
       "    <tr>\n",
       "      <th>17</th>\n",
       "      <td>Ordonnance</td>\n",
       "      <td>[]</td>\n",
       "    </tr>\n",
       "    <tr>\n",
       "      <th>18</th>\n",
       "      <td>Ordonnance</td>\n",
       "      <td>[cle, tas, sinl, eil, hsd, cel, onele, treld, ...</td>\n",
       "    </tr>\n",
       "  </tbody>\n",
       "</table>\n",
       "</div>"
      ],
      "text/plain": [
       "        Labels                                               Mots\n",
       "0      Facture  [demo, expert, s, expent, comptable, commissai...\n",
       "1      Facture  [vattenfall, loader, sucdois, ronergio, do, 8,...\n",
       "2      Facture  [facture, no, 201808003, entreprise, mon, sa, ...\n",
       "3      Facture  [facture, e, no, 10003567, en, cosives, page, ...\n",
       "4      Facture  [facture, ref, facturer, fa210goo001, lemoineb...\n",
       "5      Facture  [facture, mon, reference, f20231, 00044, entre...\n",
       "6      Facture  [facture, pro, cleaners, faubourg, saint, 60, ...\n",
       "7      Facture  [sa, bounss, facture, eur, en, toeees, oo, coe...\n",
       "8      Facture  [durand, g, bourgelat, d, durand, fu1500467, j...\n",
       "9      Facture  [sfr, martin, dupont, bonjour, mr, 1310312017,...\n",
       "10  Ordonnance                                             [oees]\n",
       "11  Ordonnance  [reneaed, dallalie, di, bedecin, rep, udell, e...\n",
       "12  Ordonnance  [docteur, nom, prenom, date, de, redaction, qu...\n",
       "13  Ordonnance  [dr, arnaud, provo, 121, rue, daguesseau, gene...\n",
       "14  Ordonnance  [david, seifeddine, selarl, ophta, future, dr,...\n",
       "15  Ordonnance                [x, e, dieoe, lefoe, soe, d, efold]\n",
       "16  Ordonnance                                                 []\n",
       "17  Ordonnance                                                 []\n",
       "18  Ordonnance  [cle, tas, sinl, eil, hsd, cel, onele, treld, ..."
      ]
     },
     "execution_count": 26,
     "metadata": {},
     "output_type": "execute_result"
    }
   ],
   "source": [
    "data = {'Labels': Labels, 'Mots': Mots}\n",
    "df = pd.DataFrame(data)\n",
    "df"
   ]
  },
  {
   "cell_type": "code",
   "execution_count": 27,
   "metadata": {},
   "outputs": [],
   "source": [
    "df.to_csv(\"BDD_etape2_A4.csv\",index=False,sep=';')"
   ]
  },
  {
   "cell_type": "code",
   "execution_count": 17,
   "metadata": {},
   "outputs": [],
   "source": [
    "#df=pd.read_csv(\"BDD_train.csv\",sep=\";\")"
   ]
  }
 ],
 "metadata": {
  "kernelspec": {
   "display_name": "Python 3",
   "language": "python",
   "name": "python3"
  },
  "language_info": {
   "codemirror_mode": {
    "name": "ipython",
    "version": 3
   },
   "file_extension": ".py",
   "mimetype": "text/x-python",
   "name": "python",
   "nbconvert_exporter": "python",
   "pygments_lexer": "ipython3",
   "version": "3.10.1"
  }
 },
 "nbformat": 4,
 "nbformat_minor": 2
}
