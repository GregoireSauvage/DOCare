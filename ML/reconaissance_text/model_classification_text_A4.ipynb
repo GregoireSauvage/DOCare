{
 "cells": [
  {
   "cell_type": "code",
   "execution_count": 1,
   "metadata": {},
   "outputs": [],
   "source": [
    "#Import des librairies\n",
    "import pandas as pd\n",
    "import numpy as np\n",
    "import ast\n"
   ]
  },
  {
   "cell_type": "code",
   "execution_count": 2,
   "metadata": {},
   "outputs": [],
   "source": [
    "#import de la BDD d'entrainement\n",
    "df=pd.read_csv(\"C:/Users/hugol/Desktop/cours_ece/test/ML/reconnaissance_doc/BDD_etape2_A4.csv\",sep=\";\")"
   ]
  },
  {
   "cell_type": "code",
   "execution_count": 3,
   "metadata": {},
   "outputs": [
    {
     "data": {
      "text/html": [
       "<div>\n",
       "<style scoped>\n",
       "    .dataframe tbody tr th:only-of-type {\n",
       "        vertical-align: middle;\n",
       "    }\n",
       "\n",
       "    .dataframe tbody tr th {\n",
       "        vertical-align: top;\n",
       "    }\n",
       "\n",
       "    .dataframe thead th {\n",
       "        text-align: right;\n",
       "    }\n",
       "</style>\n",
       "<table border=\"1\" class=\"dataframe\">\n",
       "  <thead>\n",
       "    <tr style=\"text-align: right;\">\n",
       "      <th></th>\n",
       "      <th>Labels</th>\n",
       "      <th>Mots</th>\n",
       "    </tr>\n",
       "  </thead>\n",
       "  <tbody>\n",
       "    <tr>\n",
       "      <th>0</th>\n",
       "      <td>Facture</td>\n",
       "      <td>['demo', 'expert', 's', 'expent', 'comptable',...</td>\n",
       "    </tr>\n",
       "    <tr>\n",
       "      <th>1</th>\n",
       "      <td>Facture</td>\n",
       "      <td>['vattenfall', 'loader', 'sucdois', 'ronergio'...</td>\n",
       "    </tr>\n",
       "    <tr>\n",
       "      <th>2</th>\n",
       "      <td>Facture</td>\n",
       "      <td>['facture', 'no', '201808003', 'entreprise', '...</td>\n",
       "    </tr>\n",
       "    <tr>\n",
       "      <th>3</th>\n",
       "      <td>Facture</td>\n",
       "      <td>['facture', 'e', 'no', '10003567', 'en', 'cosi...</td>\n",
       "    </tr>\n",
       "    <tr>\n",
       "      <th>4</th>\n",
       "      <td>Facture</td>\n",
       "      <td>['facture', 'ref', 'facturer', 'fa210goo001', ...</td>\n",
       "    </tr>\n",
       "    <tr>\n",
       "      <th>5</th>\n",
       "      <td>Facture</td>\n",
       "      <td>['facture', 'mon', 'reference', 'f20231', '000...</td>\n",
       "    </tr>\n",
       "    <tr>\n",
       "      <th>6</th>\n",
       "      <td>Facture</td>\n",
       "      <td>['facture', 'pro', 'cleaners', 'faubourg', 'sa...</td>\n",
       "    </tr>\n",
       "    <tr>\n",
       "      <th>7</th>\n",
       "      <td>Facture</td>\n",
       "      <td>['sa', 'bounss', 'facture', 'eur', 'en', 'toee...</td>\n",
       "    </tr>\n",
       "    <tr>\n",
       "      <th>8</th>\n",
       "      <td>Facture</td>\n",
       "      <td>['durand', 'g', 'bourgelat', 'd', 'durand', 'f...</td>\n",
       "    </tr>\n",
       "    <tr>\n",
       "      <th>9</th>\n",
       "      <td>Facture</td>\n",
       "      <td>['sfr', 'martin', 'dupont', 'bonjour', 'mr', '...</td>\n",
       "    </tr>\n",
       "    <tr>\n",
       "      <th>10</th>\n",
       "      <td>Ordonnance</td>\n",
       "      <td>['oees']</td>\n",
       "    </tr>\n",
       "    <tr>\n",
       "      <th>11</th>\n",
       "      <td>Ordonnance</td>\n",
       "      <td>['reneaed', 'dallalie', 'di', 'bedecin', 'rep'...</td>\n",
       "    </tr>\n",
       "    <tr>\n",
       "      <th>12</th>\n",
       "      <td>Ordonnance</td>\n",
       "      <td>['docteur', 'nom', 'prenom', 'date', 'de', 're...</td>\n",
       "    </tr>\n",
       "    <tr>\n",
       "      <th>13</th>\n",
       "      <td>Ordonnance</td>\n",
       "      <td>['dr', 'arnaud', 'provo', '121', 'rue', 'dague...</td>\n",
       "    </tr>\n",
       "    <tr>\n",
       "      <th>14</th>\n",
       "      <td>Ordonnance</td>\n",
       "      <td>['david', 'seifeddine', 'selarl', 'ophta', 'fu...</td>\n",
       "    </tr>\n",
       "    <tr>\n",
       "      <th>15</th>\n",
       "      <td>Ordonnance</td>\n",
       "      <td>['x', 'e', 'dieoe', 'lefoe', 'soe', 'd', 'efold']</td>\n",
       "    </tr>\n",
       "    <tr>\n",
       "      <th>16</th>\n",
       "      <td>Ordonnance</td>\n",
       "      <td>[]</td>\n",
       "    </tr>\n",
       "    <tr>\n",
       "      <th>17</th>\n",
       "      <td>Ordonnance</td>\n",
       "      <td>[]</td>\n",
       "    </tr>\n",
       "    <tr>\n",
       "      <th>18</th>\n",
       "      <td>Ordonnance</td>\n",
       "      <td>['cle', 'tas', 'sinl', 'eil', 'hsd', 'cel', 'o...</td>\n",
       "    </tr>\n",
       "  </tbody>\n",
       "</table>\n",
       "</div>"
      ],
      "text/plain": [
       "        Labels                                               Mots\n",
       "0      Facture  ['demo', 'expert', 's', 'expent', 'comptable',...\n",
       "1      Facture  ['vattenfall', 'loader', 'sucdois', 'ronergio'...\n",
       "2      Facture  ['facture', 'no', '201808003', 'entreprise', '...\n",
       "3      Facture  ['facture', 'e', 'no', '10003567', 'en', 'cosi...\n",
       "4      Facture  ['facture', 'ref', 'facturer', 'fa210goo001', ...\n",
       "5      Facture  ['facture', 'mon', 'reference', 'f20231', '000...\n",
       "6      Facture  ['facture', 'pro', 'cleaners', 'faubourg', 'sa...\n",
       "7      Facture  ['sa', 'bounss', 'facture', 'eur', 'en', 'toee...\n",
       "8      Facture  ['durand', 'g', 'bourgelat', 'd', 'durand', 'f...\n",
       "9      Facture  ['sfr', 'martin', 'dupont', 'bonjour', 'mr', '...\n",
       "10  Ordonnance                                           ['oees']\n",
       "11  Ordonnance  ['reneaed', 'dallalie', 'di', 'bedecin', 'rep'...\n",
       "12  Ordonnance  ['docteur', 'nom', 'prenom', 'date', 'de', 're...\n",
       "13  Ordonnance  ['dr', 'arnaud', 'provo', '121', 'rue', 'dague...\n",
       "14  Ordonnance  ['david', 'seifeddine', 'selarl', 'ophta', 'fu...\n",
       "15  Ordonnance  ['x', 'e', 'dieoe', 'lefoe', 'soe', 'd', 'efold']\n",
       "16  Ordonnance                                                 []\n",
       "17  Ordonnance                                                 []\n",
       "18  Ordonnance  ['cle', 'tas', 'sinl', 'eil', 'hsd', 'cel', 'o..."
      ]
     },
     "execution_count": 3,
     "metadata": {},
     "output_type": "execute_result"
    }
   ],
   "source": [
    "df"
   ]
  },
  {
   "cell_type": "code",
   "execution_count": 6,
   "metadata": {},
   "outputs": [
    {
     "name": "stdout",
     "output_type": "stream",
     "text": [
      "['Facture', ['sfr', 'martin', 'dupont', 'bonjour', 'mr', '1310312017', 'voici', 'votre', 'facture', 'du', 'mr', 'mart', 'in', 'dupont', '17', 'avenue', 'de', 'li', 'elephant', '13000', 'marseille', '8123123456769', 'n', 'facture', 'montant', 'net', 'a', 'vos', 'coordonnees', 'payer', 'olooe', 'oy', 'facture', 'n', 'portable', '06', '00', 'o0', 'oo', 'o0', 'montant', 'de', 'o', 'oocht', 'os', 'oocttc', '0012abc3', 'n', 'client', 'compte', 'sfr', 'souhaite', 'bienvenue', 'de', 'confiance', 'n', 'compte', 'de', 'service', 'ooabcdef', 'la', 'et', 'remercie', 'votre', 'vous', 'vous', 'voici', 'votre', 'premiere', 'facture', 'de', 'location', 'mobile', 'votre', 'adresse', 'mr', 'martin', 'dupont', '17', 'avenue', 'de', 'lelephant', '13000', 'marseille', 'les', 'toraux', 'tva', 'precises', 'bas', 'de', 'facture', 'montants', 'oe', 'sont', 'su', 'a', 'detail', 'des', 'facturees', 'olo', 'tva', 'chte', 'ttcie', 'sommes', 'votre', 'location', 'mobile', 'de', 'votre', 'location', 'dequipements', 'o', '00', 'o', '00', 'fin', 'dengagement', 'de', 'la', 'location', '1210812019', 'majoration', 'du', 'ler', 'de', 'location', 'mobile', '20', 'oovo', '0', 'o0', '00', 'loyer', 'votre', 'de', 'o', 'oooo', 'o00', '00', 'loyer', 'mensuel', 'de', 'votre', 'location', 'de', 'mobile', '20', 'os', 'applicable', 'facturees', 'tva', 'aux', 'sommes', 'tva', '200', '00', 'c', 'dont', 'montant', 'a', 'o', 'vos', 'dernieres', 'operations', '1310312016', 'le', 'souscrit', 'a', 'offre', 'de', 'location', 'de', 'mobile', 'vous', 'avez', 'une', 'regle', 'celuici', 'de', 'la', 'maniere', 'suivante', 'premier', 'de', 'o0', 'ooc', 'de', 'sera', 'loyer', 'puis', 'un', 'loyer', 'mensuel', 'un', 'o0', 'oocimois', 'jusqua', 'fin', 'du', 'iminimum', '24', 'la', 'contrat', 'moisy']]\n",
      "['Ordonnance', ['cle', 'tas', 'sinl', 'eil', 'hsd', 'cel', 'onele', 'treld', 'le', 'sele', 'icaes', 'neelds', 'te', 'obuuolw', 'ee', 'nciae', 'nuntae', 'lats', 'durond', 'btis', 'suls', 'fe', 'n', 'is', 'ronc', 'ns', 'ces', 'telin']]\n"
     ]
    }
   ],
   "source": [
    "#On extrait un de chaque pour la validation\n",
    "valfact=[df[\"Labels\"][9],ast.literal_eval(df[\"Mots\"][9])]\n",
    "valord=[df[\"Labels\"][18],ast.literal_eval(df[\"Mots\"][18])]\n",
    "print(valfact)\n",
    "print(valord)"
   ]
  },
  {
   "cell_type": "code",
   "execution_count": 7,
   "metadata": {},
   "outputs": [
    {
     "data": {
      "text/html": [
       "<div>\n",
       "<style scoped>\n",
       "    .dataframe tbody tr th:only-of-type {\n",
       "        vertical-align: middle;\n",
       "    }\n",
       "\n",
       "    .dataframe tbody tr th {\n",
       "        vertical-align: top;\n",
       "    }\n",
       "\n",
       "    .dataframe thead th {\n",
       "        text-align: right;\n",
       "    }\n",
       "</style>\n",
       "<table border=\"1\" class=\"dataframe\">\n",
       "  <thead>\n",
       "    <tr style=\"text-align: right;\">\n",
       "      <th></th>\n",
       "      <th>Labels</th>\n",
       "      <th>Mots</th>\n",
       "    </tr>\n",
       "  </thead>\n",
       "  <tbody>\n",
       "    <tr>\n",
       "      <th>0</th>\n",
       "      <td>Facture</td>\n",
       "      <td>['demo', 'expert', 's', 'expent', 'comptable',...</td>\n",
       "    </tr>\n",
       "    <tr>\n",
       "      <th>1</th>\n",
       "      <td>Facture</td>\n",
       "      <td>['vattenfall', 'loader', 'sucdois', 'ronergio'...</td>\n",
       "    </tr>\n",
       "    <tr>\n",
       "      <th>2</th>\n",
       "      <td>Facture</td>\n",
       "      <td>['facture', 'no', '201808003', 'entreprise', '...</td>\n",
       "    </tr>\n",
       "    <tr>\n",
       "      <th>3</th>\n",
       "      <td>Facture</td>\n",
       "      <td>['facture', 'e', 'no', '10003567', 'en', 'cosi...</td>\n",
       "    </tr>\n",
       "    <tr>\n",
       "      <th>4</th>\n",
       "      <td>Facture</td>\n",
       "      <td>['facture', 'ref', 'facturer', 'fa210goo001', ...</td>\n",
       "    </tr>\n",
       "    <tr>\n",
       "      <th>5</th>\n",
       "      <td>Facture</td>\n",
       "      <td>['facture', 'mon', 'reference', 'f20231', '000...</td>\n",
       "    </tr>\n",
       "    <tr>\n",
       "      <th>6</th>\n",
       "      <td>Facture</td>\n",
       "      <td>['facture', 'pro', 'cleaners', 'faubourg', 'sa...</td>\n",
       "    </tr>\n",
       "    <tr>\n",
       "      <th>7</th>\n",
       "      <td>Facture</td>\n",
       "      <td>['sa', 'bounss', 'facture', 'eur', 'en', 'toee...</td>\n",
       "    </tr>\n",
       "    <tr>\n",
       "      <th>8</th>\n",
       "      <td>Facture</td>\n",
       "      <td>['durand', 'g', 'bourgelat', 'd', 'durand', 'f...</td>\n",
       "    </tr>\n",
       "    <tr>\n",
       "      <th>9</th>\n",
       "      <td>Ordonnance</td>\n",
       "      <td>['oees']</td>\n",
       "    </tr>\n",
       "    <tr>\n",
       "      <th>10</th>\n",
       "      <td>Ordonnance</td>\n",
       "      <td>['reneaed', 'dallalie', 'di', 'bedecin', 'rep'...</td>\n",
       "    </tr>\n",
       "    <tr>\n",
       "      <th>11</th>\n",
       "      <td>Ordonnance</td>\n",
       "      <td>['docteur', 'nom', 'prenom', 'date', 'de', 're...</td>\n",
       "    </tr>\n",
       "    <tr>\n",
       "      <th>12</th>\n",
       "      <td>Ordonnance</td>\n",
       "      <td>['dr', 'arnaud', 'provo', '121', 'rue', 'dague...</td>\n",
       "    </tr>\n",
       "    <tr>\n",
       "      <th>13</th>\n",
       "      <td>Ordonnance</td>\n",
       "      <td>['david', 'seifeddine', 'selarl', 'ophta', 'fu...</td>\n",
       "    </tr>\n",
       "    <tr>\n",
       "      <th>14</th>\n",
       "      <td>Ordonnance</td>\n",
       "      <td>['x', 'e', 'dieoe', 'lefoe', 'soe', 'd', 'efold']</td>\n",
       "    </tr>\n",
       "    <tr>\n",
       "      <th>15</th>\n",
       "      <td>Ordonnance</td>\n",
       "      <td>[]</td>\n",
       "    </tr>\n",
       "    <tr>\n",
       "      <th>16</th>\n",
       "      <td>Ordonnance</td>\n",
       "      <td>[]</td>\n",
       "    </tr>\n",
       "  </tbody>\n",
       "</table>\n",
       "</div>"
      ],
      "text/plain": [
       "        Labels                                               Mots\n",
       "0      Facture  ['demo', 'expert', 's', 'expent', 'comptable',...\n",
       "1      Facture  ['vattenfall', 'loader', 'sucdois', 'ronergio'...\n",
       "2      Facture  ['facture', 'no', '201808003', 'entreprise', '...\n",
       "3      Facture  ['facture', 'e', 'no', '10003567', 'en', 'cosi...\n",
       "4      Facture  ['facture', 'ref', 'facturer', 'fa210goo001', ...\n",
       "5      Facture  ['facture', 'mon', 'reference', 'f20231', '000...\n",
       "6      Facture  ['facture', 'pro', 'cleaners', 'faubourg', 'sa...\n",
       "7      Facture  ['sa', 'bounss', 'facture', 'eur', 'en', 'toee...\n",
       "8      Facture  ['durand', 'g', 'bourgelat', 'd', 'durand', 'f...\n",
       "9   Ordonnance                                           ['oees']\n",
       "10  Ordonnance  ['reneaed', 'dallalie', 'di', 'bedecin', 'rep'...\n",
       "11  Ordonnance  ['docteur', 'nom', 'prenom', 'date', 'de', 're...\n",
       "12  Ordonnance  ['dr', 'arnaud', 'provo', '121', 'rue', 'dague...\n",
       "13  Ordonnance  ['david', 'seifeddine', 'selarl', 'ophta', 'fu...\n",
       "14  Ordonnance  ['x', 'e', 'dieoe', 'lefoe', 'soe', 'd', 'efold']\n",
       "15  Ordonnance                                                 []\n",
       "16  Ordonnance                                                 []"
      ]
     },
     "execution_count": 7,
     "metadata": {},
     "output_type": "execute_result"
    }
   ],
   "source": [
    "#On supprime les lignes de validation\n",
    "df.drop(9, inplace=True)\n",
    "df.drop(18, inplace=True)\n",
    "df.reset_index(drop=True)\n"
   ]
  },
  {
   "cell_type": "code",
   "execution_count": 8,
   "metadata": {},
   "outputs": [
    {
     "name": "stdout",
     "output_type": "stream",
     "text": [
      "Accuracy: 1.00\n",
      "\n",
      "Classification Report:\n",
      "              precision    recall  f1-score   support\n",
      "\n",
      "     Facture       1.00      1.00      1.00         3\n",
      "  Ordonnance       1.00      1.00      1.00         1\n",
      "\n",
      "    accuracy                           1.00         4\n",
      "   macro avg       1.00      1.00      1.00         4\n",
      "weighted avg       1.00      1.00      1.00         4\n",
      "\n",
      "\n",
      "Confusion Matrix:\n",
      "[[3 0]\n",
      " [0 1]]\n"
     ]
    }
   ],
   "source": [
    "import pandas as pd\n",
    "from sklearn.model_selection import train_test_split\n",
    "from sklearn.feature_extraction.text import CountVectorizer\n",
    "from sklearn.naive_bayes import MultinomialNB\n",
    "from sklearn.pipeline import make_pipeline\n",
    "from sklearn.metrics import accuracy_score, classification_report, confusion_matrix\n",
    "\n",
    "\n",
    "# Division des données en ensembles d'entraînement et de test\n",
    "X_train, X_test, y_train, y_test = train_test_split(df['Mots'], df['Labels'], test_size=0.2, random_state=42)\n",
    "\n",
    "# Création du pipeline avec un extracteur de caractéristiques (CountVectorizer) et un modèle de classification (MultinomialNB)\n",
    "model = make_pipeline(CountVectorizer(), MultinomialNB())\n",
    "\n",
    "# Entraînement du modèle sur les données d'entraînement\n",
    "model.fit(X_train, y_train)\n",
    "\n",
    "# Prédiction sur les données de test\n",
    "y_pred = model.predict(X_test)\n",
    "\n",
    "# Évaluation du modèle\n",
    "accuracy = accuracy_score(y_test, y_pred)\n",
    "print(f\"Accuracy: {accuracy:.2f}\")\n",
    "\n",
    "# Affichage du rapport de classification et de la matrice de confusion\n",
    "print(\"\\nClassification Report:\")\n",
    "print(classification_report(y_test, y_pred))\n",
    "\n",
    "print(\"\\nConfusion Matrix:\")\n",
    "print(confusion_matrix(y_test, y_pred))\n"
   ]
  },
  {
   "cell_type": "markdown",
   "metadata": {},
   "source": [
    "##Validation"
   ]
  },
  {
   "cell_type": "code",
   "execution_count": 9,
   "metadata": {},
   "outputs": [
    {
     "name": "stdout",
     "output_type": "stream",
     "text": [
      "['Facture']\n"
     ]
    }
   ],
   "source": [
    "#Papier id\n",
    "nouvelle_phrase = ' '.join(valfact[1])\n",
    "print(model.predict([nouvelle_phrase]))"
   ]
  },
  {
   "cell_type": "code",
   "execution_count": 13,
   "metadata": {},
   "outputs": [
    {
     "name": "stdout",
     "output_type": "stream",
     "text": [
      "['Ordonnance']\n"
     ]
    }
   ],
   "source": [
    "#Ordonnance\n",
    "nouvelle_phrase = ' '.join(valord[1])\n",
    "print(model.predict([nouvelle_phrase]))"
   ]
  },
  {
   "cell_type": "code",
   "execution_count": 12,
   "metadata": {},
   "outputs": [
    {
     "data": {
      "text/plain": [
       "['model_papierA4.pkl']"
      ]
     },
     "execution_count": 12,
     "metadata": {},
     "output_type": "execute_result"
    }
   ],
   "source": [
    "#Export du model\n",
    "import joblib\n",
    "\n",
    "joblib.dump(model, 'model_papierA4.pkl')"
   ]
  }
 ],
 "metadata": {
  "kernelspec": {
   "display_name": "Python 3",
   "language": "python",
   "name": "python3"
  },
  "language_info": {
   "codemirror_mode": {
    "name": "ipython",
    "version": 3
   },
   "file_extension": ".py",
   "mimetype": "text/x-python",
   "name": "python",
   "nbconvert_exporter": "python",
   "pygments_lexer": "ipython3",
   "version": "3.10.1"
  }
 },
 "nbformat": 4,
 "nbformat_minor": 2
}
